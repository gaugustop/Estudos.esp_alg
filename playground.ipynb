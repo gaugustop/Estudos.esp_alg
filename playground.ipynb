{
 "cells": [
  {
   "cell_type": "code",
   "execution_count": 1,
   "metadata": {},
   "outputs": [],
   "source": [
    "import numpy as np"
   ]
  },
  {
   "cell_type": "code",
   "execution_count": 3,
   "metadata": {},
   "outputs": [
    {
     "data": {
      "text/plain": [
       "1"
      ]
     },
     "execution_count": 3,
     "metadata": {},
     "output_type": "execute_result"
    }
   ],
   "source": [
    "2//2"
   ]
  },
  {
   "attachments": {},
   "cell_type": "markdown",
   "metadata": {},
   "source": [
    "   0\n",
    " 1   2\n",
    "3 4 5 6"
   ]
  },
  {
   "cell_type": "code",
   "execution_count": 36,
   "metadata": {},
   "outputs": [
    {
     "name": "stdout",
     "output_type": "stream",
     "text": [
      "5\n"
     ]
    }
   ],
   "source": [
    "# primitive calculator\n",
    "#operations +1, x2, x3\n",
    "import numpy as np\n",
    "n = 20\n",
    "numeros = list(range(1,n+1))\n",
    "# print(numeros)\n",
    "MinNumOperations = list(range(0,n))\n",
    "# print(MinNumOperations)\n",
    "for i in numeros[1:]:\n",
    "    # print(f\"i = {i}\")\n",
    "    # MinNumOperations[i] = MinNumOperations[i-1] + 1\n",
    "    if i % 3 == 0:\n",
    "        # MinNumOperations[i] = min(MinNumOperations[i // 3] + 1, MinNumOperations[i])\n",
    "        if MinNumOperations[i-1] >= MinNumOperations[i // 3 - 1] + 1:\n",
    "            MinNumOperations[i-1] = MinNumOperations[i // 3 - 1] + 1\n",
    "            # print(\"x3\")\n",
    "    if i % 2 == 0:\n",
    "        # MinNumOperations[i] = min(MinNumOperations[i // 2] + 1, MinNumOperations[i])\n",
    "        if MinNumOperations[i-1] >= MinNumOperations[i // 2 - 1] + 1:\n",
    "            MinNumOperations[i-1] = MinNumOperations[i // 2 - 1] + 1\n",
    "            # print(\"x2\")\n",
    "    if not (i % 3 == 0 or i % 2 == 0):\n",
    "        MinNumOperations[i-1] = MinNumOperations[i-2] + 1\n",
    "        # print(\"+1\")\n",
    "print(MinNumOperations[-1])\n",
    "\n",
    "        \n",
    "    "
   ]
  },
  {
   "cell_type": "code",
   "execution_count": 38,
   "metadata": {},
   "outputs": [
    {
     "name": "stdout",
     "output_type": "stream",
     "text": [
      "[0, 0, 1, 1, 2, 3, 2, 3, 3]\n",
      "[0, 0, 1, 1, 3, 4, 3, 6, 4]\n",
      "[1, 3, 4, 8]\n"
     ]
    }
   ],
   "source": [
    "n = 8\n",
    "num_operations = [0] * (n+1)\n",
    "previous = [0] * (n+1)\n",
    "num_operations[1] = 0\n",
    "for i in range(2,n+1):\n",
    "    num_operations[i] = num_operations[i-1] + 1\n",
    "    previous[i]       = i - 1\n",
    "    if i % 2 == 0 and num_operations[i] > num_operations[i // 2] + 1:\n",
    "        num_operations[i] = num_operations[i // 2] + 1\n",
    "        previous[i]       = i // 2\n",
    "    if i % 3 == 0 and num_operations[i] > num_operations[i // 3] + 1:\n",
    "        num_operations[i] = num_operations[i // 3] + 1\n",
    "        previous[i]       = i // 3\n",
    "sequence = [n]\n",
    "while n != 1:\n",
    "    sequence += [previous[n]]\n",
    "    n = previous[n]\n",
    "sequence.reverse()\n",
    "\n",
    "print(num_operations)\n",
    "print(previous)\n",
    "print(sequence)\n"
   ]
  },
  {
   "cell_type": "code",
   "execution_count": 41,
   "metadata": {},
   "outputs": [
    {
     "ename": "TypeError",
     "evalue": "Cannot interpret '3' as a data type",
     "output_type": "error",
     "traceback": [
      "\u001b[1;31m---------------------------------------------------------------------------\u001b[0m",
      "\u001b[1;31mTypeError\u001b[0m                                 Traceback (most recent call last)",
      "Cell \u001b[1;32mIn[41], line 1\u001b[0m\n\u001b[1;32m----> 1\u001b[0m D \u001b[39m=\u001b[39m np\u001b[39m.\u001b[39;49mmat(\u001b[39m4\u001b[39;49m,\u001b[39m3\u001b[39;49m)\n\u001b[0;32m      2\u001b[0m D\n",
      "File \u001b[1;32mc:\\Program Files\\Python39\\lib\\site-packages\\numpy\\matrixlib\\defmatrix.py:69\u001b[0m, in \u001b[0;36masmatrix\u001b[1;34m(data, dtype)\u001b[0m\n\u001b[0;32m     36\u001b[0m \u001b[39m@set_module\u001b[39m(\u001b[39m'\u001b[39m\u001b[39mnumpy\u001b[39m\u001b[39m'\u001b[39m)\n\u001b[0;32m     37\u001b[0m \u001b[39mdef\u001b[39;00m \u001b[39masmatrix\u001b[39m(data, dtype\u001b[39m=\u001b[39m\u001b[39mNone\u001b[39;00m):\n\u001b[0;32m     38\u001b[0m \u001b[39m    \u001b[39m\u001b[39m\"\"\"\u001b[39;00m\n\u001b[0;32m     39\u001b[0m \u001b[39m    Interpret the input as a matrix.\u001b[39;00m\n\u001b[0;32m     40\u001b[0m \n\u001b[1;32m   (...)\u001b[0m\n\u001b[0;32m     67\u001b[0m \n\u001b[0;32m     68\u001b[0m \u001b[39m    \"\"\"\u001b[39;00m\n\u001b[1;32m---> 69\u001b[0m     \u001b[39mreturn\u001b[39;00m matrix(data, dtype\u001b[39m=\u001b[39;49mdtype, copy\u001b[39m=\u001b[39;49m\u001b[39mFalse\u001b[39;49;00m)\n",
      "File \u001b[1;32mc:\\Program Files\\Python39\\lib\\site-packages\\numpy\\matrixlib\\defmatrix.py:145\u001b[0m, in \u001b[0;36mmatrix.__new__\u001b[1;34m(subtype, data, dtype, copy)\u001b[0m\n\u001b[0;32m    142\u001b[0m     data \u001b[39m=\u001b[39m _convert_from_string(data)\n\u001b[0;32m    144\u001b[0m \u001b[39m# now convert data to an array\u001b[39;00m\n\u001b[1;32m--> 145\u001b[0m arr \u001b[39m=\u001b[39m N\u001b[39m.\u001b[39;49marray(data, dtype\u001b[39m=\u001b[39;49mdtype, copy\u001b[39m=\u001b[39;49mcopy)\n\u001b[0;32m    146\u001b[0m ndim \u001b[39m=\u001b[39m arr\u001b[39m.\u001b[39mndim\n\u001b[0;32m    147\u001b[0m shape \u001b[39m=\u001b[39m arr\u001b[39m.\u001b[39mshape\n",
      "\u001b[1;31mTypeError\u001b[0m: Cannot interpret '3' as a data type"
     ]
    }
   ],
   "source": [
    "D = np.array()"
   ]
  },
  {
   "cell_type": "code",
   "execution_count": 44,
   "metadata": {},
   "outputs": [
    {
     "data": {
      "text/plain": [
       "array([[0, 1, 2, 3],\n",
       "       [1, 0, 0, 0],\n",
       "       [2, 0, 0, 0],\n",
       "       [3, 0, 0, 0],\n",
       "       [4, 0, 0, 0],\n",
       "       [5, 0, 0, 0]])"
      ]
     },
     "execution_count": 44,
     "metadata": {},
     "output_type": "execute_result"
    }
   ],
   "source": [
    "A = [5,5,5,5,5]\n",
    "B = [3,3,3]\n",
    "n, m = len(A) +1, len(B) + 1\n",
    "D = np.array([[0] * m] * n)\n",
    "for i in range(0,n):\n",
    "    D[i][0] = i\n",
    "for j in range(0,m):\n",
    "    D[0][j] = j\n",
    "for i in range(1,n):\n",
    "    for j in range(1,m):\n",
    "        insertion = D[i,j-1] + 1\n",
    "        deletion  = D[i+1,j] + 1\n",
    "        match     = D[i-1,j-1]\n",
    "        mismatch  = D[i-1,j-1] + 1\n",
    "        if A[i] == B[j]:\n",
    "            D[i,j] = min(insertion, deletion, match)\n",
    "        else:\n",
    "            D[i][j] = min(insertion, deletion, mismatch)\n",
    "return D[n,m]"
   ]
  },
  {
   "cell_type": "code",
   "execution_count": 28,
   "metadata": {},
   "outputs": [],
   "source": [
    "def EditDistance(A,B):\n",
    "    n, m = len(A) +1, len(B) + 1\n",
    "    D = np.array([[0] * m] * n)\n",
    "    for i in range(0,n):\n",
    "        D[i][0] = i\n",
    "    for j in range(0,m):\n",
    "        D[0][j] = j\n",
    "    for i in range(1,n):\n",
    "        for j in range(1,m):\n",
    "            insertion = D[i,j-1] + 1\n",
    "            deletion  = D[i+1,j] + 1\n",
    "            match     = D[i-1,j-1]\n",
    "            mismatch  = D[i-1,j-1] + 1\n",
    "            if A[i] == B[j]:\n",
    "                D[i,j] = min(insertion, deletion, match)\n",
    "            else:\n",
    "                D[i][j] = min(insertion, deletion, mismatch)\n",
    "    return D[n.m]"
   ]
  },
  {
   "cell_type": "code",
   "execution_count": 29,
   "metadata": {},
   "outputs": [
    {
     "name": "stdout",
     "output_type": "stream",
     "text": [
      "[[0, 1, 2, 3, 4], [0, 1, 2, 3, 4], [0, 1, 2, 3, 4], [0, 1, 2, 3, 4]]\n"
     ]
    }
   ],
   "source": [
    "EditDistance([2,2,2],[3,3,3,3])"
   ]
  },
  {
   "attachments": {},
   "cell_type": "markdown",
   "metadata": {},
   "source": [
    "i | MinNumOperations\n",
    "1 | 0 x\n",
    "2 | 1 1 x\n",
    "3 | 2 x 1\n",
    "4 | "
   ]
  },
  {
   "cell_type": "code",
   "execution_count": null,
   "metadata": {},
   "outputs": [],
   "source": []
  },
  {
   "cell_type": "code",
   "execution_count": 6,
   "metadata": {},
   "outputs": [
    {
     "name": "stdout",
     "output_type": "stream",
     "text": [
      "[0, 1, 2, 1, 1, 2, 2, 2, 2, 3, 3, 3, 3, 4, 4, 4, 4, 5, 5, 5, 5, 6, 6, 6, 6, 7, 7, 7, 7, 8, 8, 8, 8, 9, 9, 9, 9, 10, 10, 10, 10]\n"
     ]
    }
   ],
   "source": [
    "money = 40\n",
    "coins = [1,3,4]\n",
    "\n",
    "#inicio\n",
    "MinNumCoins = [0] + [np.inf] * (money)\n",
    "\n",
    "for m in range(1,money+1):\n",
    "    for c in coins:\n",
    "        if m >= c:\n",
    "            NumCoins = MinNumCoins[m-c] + 1\n",
    "        if NumCoins < MinNumCoins[m]:\n",
    "            MinNumCoins[m] = NumCoins\n",
    "print(MinNumCoins)"
   ]
  },
  {
   "cell_type": "code",
   "execution_count": 14,
   "metadata": {},
   "outputs": [
    {
     "name": "stdout",
     "output_type": "stream",
     "text": [
      "[0, 9, 1, 10, 1, 10, 2, 11, 1, 10, 2, 11, 2, 11, 3, 12, 2, 11, 3, 12, 3, 12, 4, 13, 3, 12, 4, 13, 4, 13, 5, 14, 4, 13, 5, 14, 5, 14, 6, 15, 5, 14, 6, 15, 6, 15, 7, 16, 6, 15, 7, 16, 7, 16, 8, 17, 7, 16, 8, 17, 8, 17, 9, 18, 8, 17, 9, 18, 9, 18, 10, 19, 9, 18, 10, 19, 10, 19, 11, 20, 10, 19, 11, 20, 11, 20, 12, 21, 11, 20, 12, 21, 12, 21, 13, 22, 12, 21, 13, 22, 13, 22, 14, 23, 13, 22, 14, 23, 14, 23, 15, 24, 14, 23, 15, 24, 15, 24, 16, 25, 15, 24, 16, 25, 16, 25, 17, 26, 16, 25, 17, 26, 17, 26, 18, 27, 17, 26, 18, 27, 18, 27, 19, 28, 18, 27, 19, 28, 19, 28, 20, 29, 19, 28, 20, 29, 20, 29, 21, 30, 20, 29, 21, 30, 21, 30, 22, 31, 21, 30, 22, 31, 22, 31, 23, 32, 22, 31, 23, 32, 23, 32, 24, 33, 23, 32, 24, 33, 24, 33, 25, 34, 24, 33, 25, 34, 25, 34, 26, 35, 25, 34, 26, 35, 26, 35, 27, 36, 26, 35, 27, 36, 27, 36, 28, 37, 27, 36, 28, 37, 28, 37, 29, 38, 28, 37, 29, 38, 29, 38, 30, 39, 29, 38, 30, 39, 30, 39, 31, 40, 30, 39, 31, 40, 31, 40, 32, 41, 31, 40, 32, 41, 32, 41, 33, 42, 32, 41, 33, 42, 33, 42, 34, 43, 33, 42, 34, 43, 34, 43, 35, 44, 34, 43, 35, 44, 35, 44, 36, 45, 35, 44, 36, 45, 36, 45, 37, 46, 36, 45, 37, 46, 37, 46, 38, 47, 37, 46, 38, 47, 38, 47, 39, 48, 38, 47, 39, 48, 39, 48, 40, 49, 39, 48, 40, 49, 40, 49, 41, 50, 40, 49, 41, 50, 41, 50, 42, 51, 41, 50, 42, 51, 42, 51, 43, 52, 42, 51, 43, 52, 43, 52, 44, 53, 43, 52, 44, 53, 44, 53, 45, 54, 44, 53, 45, 54, 45, 54, 46, 55, 45, 54, 46, 55, 46, 55, 47, 56, 46, 55, 47, 56, 47, 56, 48, 57, 47, 56, 48, 57, 48, 57, 49, 58, 48, 57, 49, 58, 49, 58, 50, 59, 49, 58, 50, 59, 50, 59, 51, 60, 50, 59, 51, 60, 51, 60, 52, 61, 51, 60, 52, 61, 52, 61, 53, 62, 52, 61, 53, 62, 53, 62, 54, 63, 53, 62, 54, 63, 54, 63, 55, 64, 54, 63, 55, 64, 55, 64, 56, 65, 55, 64, 56, 65, 56, 65, 57, 66, 56, 65, 57, 66, 57, 66, 58, 67, 57, 66, 58, 67, 58, 67, 59, 68, 58, 67, 59, 68, 59, 68, 60, 69, 59, 68, 60, 69, 60, 69, 61, 70, 60, 69, 61, 70, 61, 70, 62, 71, 61, 70, 62, 71, 62, 71, 63, 72, 62, 71, 63, 72, 63, 72, 64, 73, 63, 72, 64, 73, 64, 73, 65, 74, 64, 73, 65, 74, 65, 74, 66, 75, 65, 74, 66, 75, 66, 75, 67, 76, 66, 75, 67, 76, 67, 76, 68, 77, 67, 76, 68, 77, 68, 77, 69, 78, 68, 77, 69, 78, 69, 78, 70, 79, 69, 78, 70, 79, 70, 79, 71, 80, 70, 79, 71, 80, 71, 80, 72, 81, 71, 80, 72, 81, 72, 81, 73, 82, 72, 81, 73, 82, 73, 82, 74, 83, 73, 82, 74, 83, 74, 83, 75, 84, 74, 83, 75, 84, 75, 84, 76, 85, 75, 84, 76, 85, 76, 85, 77, 86, 76, 85, 77, 86, 77, 86, 78, 87, 77, 86, 78, 87, 78, 87, 79, 88, 78, 87, 79, 88, 79, 88, 80, 89, 79, 88, 80, 89, 80, 89, 81, 90, 80, 89, 81, 90, 81, 90, 82, 91, 81, 90, 82, 91, 82, 91, 83, 92, 82, 91, 83, 92, 83, 92, 84, 93, 83, 92, 84, 93, 84, 93, 85, 94, 84, 93, 85, 94, 85, 94, 86, 95, 85, 94, 86, 95, 86, 95, 87, 96, 86, 95, 87, 96, 87, 96, 88, 97, 87, 96, 88, 97, 88, 97, 89, 98, 88, 97, 89, 98, 89, 98, 90, 99, 89, 98, 90, 99, 90, 99, 91, 100, 90, 99, 91, 100, 91, 100, 92, 101, 91, 100, 92, 101, 92, 101, 93, 102, 92, 101, 93, 102, 93, 102, 94, 103, 93, 102, 94, 103, 94, 103, 95, 104, 94, 103, 95, 104, 95, 104, 96, 105, 95, 104, 96, 105, 96, 105, 97, 106, 96, 105, 97, 106, 97, 106, 98, 107, 97, 106, 98, 107, 98, 107, 99, 108, 98, 107, 99, 108, 99, 108, 100, 109, 99, 108, 100, 109, 100, 109, 101, 110, 100, 109, 101, 110, 101, 110, 102, 111, 101, 110, 102, 111, 102, 111, 103, 112, 102, 111, 103, 112, 103, 112, 104, 113, 103, 112, 104, 113, 104, 113, 105, 114, 104, 113, 105, 114, 105, 114, 106, 115, 105, 114, 106, 115, 106, 115, 107, 116, 106, 115, 107, 116, 107, 116, 108, 117, 107, 116, 108, 117, 108, 117, 109, 118, 108, 117, 109, 118, 109, 118, 110, 119, 109, 118, 110, 119, 110, 119, 111, 120, 110, 119, 111, 120, 111, 120, 112, 121, 111, 120, 112, 121, 112, 121, 113, 122, 112, 121, 113, 122, 113, 122, 114, 123, 113, 122, 114, 123, 114, 123, 115, 124, 114, 123, 115, 124, 115, 124, 116, 125, 115, 124, 116, 125, 116, 125, 117, 126, 116, 125, 117, 126, 117, 126, 118, 127, 117, 126, 118, 127, 118, 127, 119, 128, 118, 127, 119, 128, 119, 128, 120, 129, 119, 128, 120, 129, 120, 129, 121, 130, 120, 129, 121, 130, 121, 130, 122, 131, 121, 130, 122, 131, 122, 131, 123, 132, 122, 131, 123, 132, 123, 132, 124, 133, 123, 132, 124, 133, 124, 133, 125, 134, 124, 133, 125, 134, 125, 134]\n"
     ]
    }
   ],
   "source": [
    "money = 997\n",
    "coins = [2,4,8]\n",
    "\n",
    "#inicio\n",
    "MinNumCoins = [0] + [np.inf] * (money)\n",
    "\n",
    "for m in range(1,money+1):\n",
    "    for c in coins:\n",
    "        if m >= c:\n",
    "            NumCoins = MinNumCoins[m-c] + 1\n",
    "        if NumCoins < MinNumCoins[m]:\n",
    "            MinNumCoins[m] = NumCoins\n",
    "print(MinNumCoins)"
   ]
  },
  {
   "attachments": {},
   "cell_type": "markdown",
   "metadata": {},
   "source": [
    "m | MinNumCoins\n",
    "0 | 0\n",
    "1 | 1\n",
    "2 | 2\n",
    "3 | 3, 1\n",
    "4 | 2, 2, 1\n",
    "5 | 2, 3, 2\n",
    "6 | 3, 2, 3\n",
    "7 | "
   ]
  },
  {
   "cell_type": "code",
   "execution_count": 8,
   "metadata": {},
   "outputs": [
    {
     "name": "stdout",
     "output_type": "stream",
     "text": [
      "1\n",
      "2\n",
      "3\n",
      "4\n"
     ]
    }
   ],
   "source": [
    "for i in range(1,5):\n",
    "    print(i)"
   ]
  },
  {
   "cell_type": "code",
   "execution_count": 83,
   "metadata": {},
   "outputs": [],
   "source": [
    "def binary_search(keys, query):\n",
    "    def binary_search_aux(A, low, high, query):\n",
    "        if low > high:\n",
    "            print(\"low > high\")\n",
    "            return None\n",
    "        middle = low + (high - low)//2\n",
    "        print(middle)\n",
    "        if A[middle] == query:\n",
    "            print(\"achei!\")\n",
    "            return middle\n",
    "        elif A[middle] > query:\n",
    "            print(\"middle > query\")\n",
    "            return binary_search_aux(A, middle+1, high, query)\n",
    "        else:\n",
    "            print(\"middle < query\")\n",
    "            return binary_search_aux(A, low, middle-1, query)\n",
    "\n",
    "    return binary_search_aux(keys, 0, len(keys)-1, query)"
   ]
  },
  {
   "cell_type": "code",
   "execution_count": null,
   "metadata": {},
   "outputs": [],
   "source": [
    "list(range(1,128))"
   ]
  },
  {
   "cell_type": "code",
   "execution_count": 84,
   "metadata": {},
   "outputs": [
    {
     "name": "stdout",
     "output_type": "stream",
     "text": [
      "middle < query\n",
      "middle < query\n",
      "middle < query\n",
      "middle < query\n",
      "middle < query\n",
      "middle < query\n",
      "middle < query\n",
      "low > high\n"
     ]
    }
   ],
   "source": [
    "binary_search(list(range(1,128)),90)"
   ]
  },
  {
   "cell_type": "code",
   "execution_count": 65,
   "metadata": {},
   "outputs": [
    {
     "data": {
      "text/plain": [
       "120"
      ]
     },
     "execution_count": 65,
     "metadata": {},
     "output_type": "execute_result"
    }
   ],
   "source": [
    "63//2 + 63 + 63//2//2 + 63//2//2//2 + 63//2//2//2//2+ 63//2//2//2//2//2"
   ]
  },
  {
   "cell_type": "code",
   "execution_count": 23,
   "metadata": {},
   "outputs": [],
   "source": [
    "l = [1,2,3,4,5]\n",
    "class Segment:\n",
    "    def __init__(self, start, end):\n",
    "        self.start = start\n",
    "        self.end = end"
   ]
  },
  {
   "cell_type": "code",
   "execution_count": 25,
   "metadata": {},
   "outputs": [],
   "source": [
    "l = []\n",
    "for i in range(0,5):\n",
    "    segment = Segment(i,i+2)\n",
    "    l.append(segment)"
   ]
  },
  {
   "cell_type": "code",
   "execution_count": 45,
   "metadata": {},
   "outputs": [
    {
     "name": "stdout",
     "output_type": "stream",
     "text": [
      "0\n",
      "2\n",
      "1\n",
      "3\n",
      "2\n",
      "4\n",
      "3\n",
      "5\n",
      "4\n",
      "6\n"
     ]
    }
   ],
   "source": [
    "for i in l:\n",
    "    print(i.start)\n",
    "    print(i.end)"
   ]
  },
  {
   "cell_type": "code",
   "execution_count": null,
   "metadata": {},
   "outputs": [],
   "source": []
  },
  {
   "cell_type": "code",
   "execution_count": 57,
   "metadata": {},
   "outputs": [
    {
     "name": "stdout",
     "output_type": "stream",
     "text": [
      "3\n",
      "5\n",
      "4\n",
      "6\n"
     ]
    }
   ],
   "source": [
    "for i in l2:\n",
    "    print(i.start)\n",
    "    print(i.end)"
   ]
  },
  {
   "cell_type": "code",
   "execution_count": 56,
   "metadata": {},
   "outputs": [],
   "source": [
    "l2 = list(filter(lambda i: i.start>2, l))"
   ]
  },
  {
   "cell_type": "code",
   "execution_count": 2,
   "metadata": {},
   "outputs": [],
   "source": [
    "def max_salary(numbers):\n",
    "    print(numbers)\n",
    "    numbers = [str(x) for x in numbers]  # convert all numbers to strings\n",
    "    print(numbers)\n",
    "    numbers.sort(key=lambda x: x*3, reverse=True)  # sort in non-increasing order\n",
    "    print(numbers)\n",
    "    return int(''.join(numbers))"
   ]
  },
  {
   "cell_type": "code",
   "execution_count": 18,
   "metadata": {},
   "outputs": [
    {
     "data": {
      "text/plain": [
       "['2', '21']"
      ]
     },
     "execution_count": 18,
     "metadata": {},
     "output_type": "execute_result"
    }
   ],
   "source": [
    "a = '21'\n",
    "b = '2'\n",
    "l = [a,b]\n",
    "\n",
    "l.sort(key = lambda x: x*3, reverse=True)\n",
    "l"
   ]
  },
  {
   "cell_type": "code",
   "execution_count": 6,
   "metadata": {},
   "outputs": [
    {
     "name": "stdout",
     "output_type": "stream",
     "text": [
      "0\n",
      "1\n"
     ]
    },
    {
     "ename": "AssertionError",
     "evalue": "",
     "output_type": "error",
     "traceback": [
      "\u001b[1;31m---------------------------------------------------------------------------\u001b[0m",
      "\u001b[1;31mAssertionError\u001b[0m                            Traceback (most recent call last)",
      "Cell \u001b[1;32mIn[6], line 5\u001b[0m\n\u001b[0;32m      3\u001b[0m \u001b[39mfor\u001b[39;00m i \u001b[39min\u001b[39;00m \u001b[39mrange\u001b[39m(n):\n\u001b[0;32m      4\u001b[0m     \u001b[39mprint\u001b[39m(i)\n\u001b[1;32m----> 5\u001b[0m     \u001b[39massert\u001b[39;00m i \u001b[39m<\u001b[39m \u001b[39m1\u001b[39m\n",
      "\u001b[1;31mAssertionError\u001b[0m: "
     ]
    }
   ],
   "source": [
    "v = [1, 2, 3]\n",
    "n = len(v)\n",
    "for i in range(n):\n",
    "    print(i)\n",
    "    assert i < 1"
   ]
  },
  {
   "cell_type": "code",
   "execution_count": 7,
   "metadata": {},
   "outputs": [],
   "source": [
    "from numpy.random import randint as randint"
   ]
  },
  {
   "cell_type": "code",
   "execution_count": 24,
   "metadata": {},
   "outputs": [
    {
     "data": {
      "text/plain": [
       "array([248, 241,  29, 188,  89])"
      ]
     },
     "execution_count": 24,
     "metadata": {},
     "output_type": "execute_result"
    }
   ],
   "source": [
    "randint(1,300,5, dtype = 'long')"
   ]
  },
  {
   "cell_type": "code",
   "execution_count": null,
   "metadata": {},
   "outputs": [
    {
     "ename": "",
     "evalue": "",
     "output_type": "error",
     "traceback": [
      "\u001b[1;31mFailed to start the Kernel. \n",
      "\u001b[1;31mCommand \"python setup.py egg_info\" failed with error code 1 in /tmp/pip-build-qv1ytxo8/argon2-cffi-bindings/. \n",
      "\u001b[1;31mView Jupyter <a href='command:jupyter.viewOutput'>log</a> for further details."
     ]
    }
   ],
   "source": [
    "Int64(4)"
   ]
  },
  {
   "cell_type": "code",
   "execution_count": 21,
   "metadata": {},
   "outputs": [
    {
     "ename": "AttributeError",
     "evalue": "module 'sys' has no attribute 'maxint'",
     "output_type": "error",
     "traceback": [
      "\u001b[1;31m---------------------------------------------------------------------------\u001b[0m",
      "\u001b[1;31mAttributeError\u001b[0m                            Traceback (most recent call last)",
      "Cell \u001b[1;32mIn[21], line 2\u001b[0m\n\u001b[0;32m      1\u001b[0m \u001b[39mimport\u001b[39;00m \u001b[39msys\u001b[39;00m\n\u001b[1;32m----> 2\u001b[0m sys\u001b[39m.\u001b[39;49mmaxint\n",
      "\u001b[1;31mAttributeError\u001b[0m: module 'sys' has no attribute 'maxint'"
     ]
    }
   ],
   "source": [
    "import sys\n",
    "sys.maxint"
   ]
  },
  {
   "cell_type": "code",
   "execution_count": 1,
   "metadata": {},
   "outputs": [],
   "source": [
    "l = [1, 3, 6, 9]"
   ]
  },
  {
   "cell_type": "code",
   "execution_count": 10,
   "metadata": {},
   "outputs": [
    {
     "data": {
      "text/plain": [
       "2"
      ]
     },
     "execution_count": 10,
     "metadata": {},
     "output_type": "execute_result"
    }
   ],
   "source": [
    "len(l)"
   ]
  },
  {
   "cell_type": "code",
   "execution_count": 33,
   "metadata": {},
   "outputs": [],
   "source": [
    "def fib(n):\n",
    "    v1, v2, v3 = 1, 1, 0    # initialise a matrix [[1,1],[1,0]]\n",
    "    for rec in bin(n)[3:]:  # perform fast exponentiation of the matrix (quickly raise it to the nth power)\n",
    "        calc = v2*v2\n",
    "        v1, v2, v3 = v1*v1+calc, (v1+v3)*v2, calc+v3*v3\n",
    "        if rec=='1':    v1, v2, v3 = v1+v2, v1, v2\n",
    "    return v2"
   ]
  },
  {
   "cell_type": "code",
   "execution_count": 65,
   "metadata": {},
   "outputs": [
    {
     "data": {
      "text/plain": [
       "2"
      ]
     },
     "execution_count": 65,
     "metadata": {},
     "output_type": "execute_result"
    }
   ],
   "source": [
    "5//2"
   ]
  },
  {
   "cell_type": "code",
   "execution_count": 69,
   "metadata": {},
   "outputs": [
    {
     "name": "stdout",
     "output_type": "stream",
     "text": [
      "0:0b0\n",
      "1:0b1\n",
      "2:0b10\n",
      "3:0b11\n",
      "4:0b100\n",
      "5:0b101\n",
      "6:0b110\n",
      "7:0b111\n",
      "8:0b1000\n",
      "9:0b1001\n",
      "10:0b1010\n",
      "11:0b1011\n",
      "12:0b1100\n",
      "13:0b1101\n",
      "14:0b1110\n",
      "15:0b1111\n",
      "16:0b10000\n",
      "17:0b10001\n",
      "18:0b10010\n",
      "19:0b10011\n"
     ]
    }
   ],
   "source": [
    "for i in range(20):\n",
    "    print(f'{i}:{bin(i)}')"
   ]
  },
  {
   "cell_type": "code",
   "execution_count": 67,
   "metadata": {},
   "outputs": [
    {
     "data": {
      "text/plain": [
       "range(0, 5)"
      ]
     },
     "execution_count": 67,
     "metadata": {},
     "output_type": "execute_result"
    }
   ],
   "source": [
    "range(5)"
   ]
  },
  {
   "cell_type": "code",
   "execution_count": 51,
   "metadata": {},
   "outputs": [],
   "source": [
    "def fibonacci_number(n):\n",
    "    if n <= 1:\n",
    "        return n\n",
    "\n",
    "    # define a matriz de Fibonacci\n",
    "    fib_matrix = [[1, 1], [1, 0]]\n",
    "\n",
    "    # eleva a matriz à potência n usando a técnica de exponenciação rápida\n",
    "    def matrix_power(matrix, power):\n",
    "        result = [[1, 0], [0, 1]]\n",
    "        while power > 0:\n",
    "            if power % 2 == 1:\n",
    "                result = matrix_multiply(result, matrix)\n",
    "            matrix = matrix_multiply(matrix, matrix)\n",
    "            power //= 2\n",
    "        return result\n",
    "\n",
    "    # multiplica duas matrizes 2x2\n",
    "    def matrix_multiply(a, b):\n",
    "        return [[a[0][0]*b[0][0] + a[0][1]*b[1][0], a[0][0]*b[0][1] + a[0][1]*b[1][1]],\n",
    "                [a[1][0]*b[0][0] + a[1][1]*b[1][0], a[1][0]*b[0][1] + a[1][1]*b[1][1]]]\n",
    "\n",
    "    # retorna o n-ésimo número da sequência de Fibonacci\n",
    "    return matrix_power(fib_matrix, n-1)[0][0]\n"
   ]
  },
  {
   "cell_type": "code",
   "execution_count": 63,
   "metadata": {},
   "outputs": [
    {
     "data": {
      "text/plain": [
       "2"
      ]
     },
     "execution_count": 63,
     "metadata": {},
     "output_type": "execute_result"
    }
   ],
   "source": [
    "5//2"
   ]
  }
 ],
 "metadata": {
  "kernelspec": {
   "display_name": "base",
   "language": "python",
   "name": "python3"
  },
  "language_info": {
   "codemirror_mode": {
    "name": "ipython",
    "version": 3
   },
   "file_extension": ".py",
   "mimetype": "text/x-python",
   "name": "python",
   "nbconvert_exporter": "python",
   "pygments_lexer": "ipython3",
   "version": "3.9.1"
  },
  "orig_nbformat": 4,
  "vscode": {
   "interpreter": {
    "hash": "3e15e8a6890d4ff8ecba53732f8046d3c941ffc43daf575b0a904ccbadd4df71"
   }
  }
 },
 "nbformat": 4,
 "nbformat_minor": 2
}
